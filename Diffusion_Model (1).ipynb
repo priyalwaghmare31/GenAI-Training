{
  "nbformat": 4,
  "nbformat_minor": 0,
  "metadata": {
    "colab": {
      "provenance": []
    },
    "kernelspec": {
      "name": "python3",
      "display_name": "Python 3"
    },
    "language_info": {
      "name": "python"
    }
  },
  "cells": [
    {
      "cell_type": "markdown",
      "source": [
        "Diffusion Model ----\n",
        "1. Forward Process -- add noise\n",
        "2. Reverse Process -- Denoising\n",
        "\n",
        "Diffusion Models --\n",
        "\n",
        "A diffusion model is a type of generative AI model that creates data( image, audio, 3-D structures) by gradually transforming random noise into realistic output.  \n",
        "\n",
        "Diffusion works with 2 steps -\n",
        "\n",
        "1. Forward process -\n",
        "\n",
        "i. The model takes real data and adds a small amount of random noise.\n",
        "\n",
        "ii. After many steps, the real data is unrecognised\n",
        "\n",
        "2. Reverse process -\n",
        "\n",
        "i. The model learn how to reverse/remove the process starting from random noise. It gradually removes noise step by step until it creates a realistic data.\n",
        "\n",
        "Diffusion Models --\n",
        "1. Stable Diffusion\n",
        "2. DeepFloyed IF\n",
        "3. Image FX\n",
        "4. Denoising Diffusion Probabilistics Models (DDPMs)\n",
        "5. Dream 7B\n",
        "6. Bing Image Creator\n",
        "7. Google Image Creator"
      ],
      "metadata": {
        "id": "cz7beSa6QEl1"
      }
    },
    {
      "cell_type": "code",
      "source": [],
      "metadata": {
        "id": "YC9NZp4HSJA1"
      },
      "execution_count": null,
      "outputs": []
    }
  ]
}
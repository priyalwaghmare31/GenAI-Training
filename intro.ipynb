{
 "cells": [
  {
   "cell_type": "code",
   "execution_count": null,
   "id": "0949f1dd",
   "metadata": {},
   "outputs": [],
   "source": [
    "# Ai/ML/DL/GenAI\n",
    "#Define AI : It is the simulation of human intelligence processes by machines, especially computer systems.\n",
    "#this process includes learning (the acquisition of information and rules for using it), \n",
    "# reasoning (using rules to reach approximate or definite conclusions), and self-correction.\n"
   ]
  },
  {
   "cell_type": "code",
   "execution_count": null,
   "id": "bdd0587f",
   "metadata": {},
   "outputs": [],
   "source": [
    "#Define DL : Deep Learning is a subset of ML that uses neural network with many layers (deep neural networks) to analyze various factors of data.\n",
    "#these are capable of automatically learning features from unstructured data such as images, text, and audio.\n",
    "#e.g., image recognition, natural language processing , autonomous vehicle and speech recognition."
   ]
  },
  {
   "cell_type": "code",
   "execution_count": null,
   "id": "8844e795",
   "metadata": {},
   "outputs": [],
   "source": [
    "#Define ML : It is a subset of AI that enables systems to learn and improve from experience without being explicitly programmed.\n",
    "#It uses algorithms and statistical models to analyze and draw inferences from patterns in data."
   ]
  },
  {
   "cell_type": "code",
   "execution_count": null,
   "id": "fe954128",
   "metadata": {},
   "outputs": [],
   "source": [
    "#Generative AI : It refers to models that are capable of generating new data that resembles the training data.\n",
    "#These models learn the underlying patterns and structures in the data and can create new content, such as text, images, or music.\n",
    "#text to image generation, text generation, and video generation."
   ]
  },
  {
   "cell_type": "code",
   "execution_count": null,
   "id": "0733c2f3",
   "metadata": {},
   "outputs": [],
   "source": [
    "#LLM : Large Language Models are a type of generative AI that are trained on vast amounts of text data to understand and generate human-like text.\n",
    "#They can perform a wide range of tasks, including language translation, summarization, and question answering.\n",
    "#Define LLM : Large Language Models are a type of generative AI that are trained on vast amounts of text data to understand and generate human-like text.\n",
    "\n",
    "#example of LLM : ChatGPT, GPT-3, and BERT are examples of large language models that can understand and generate human-like text."
   ]
  },
  {
   "cell_type": "code",
   "execution_count": null,
   "id": "6caf1947",
   "metadata": {},
   "outputs": [],
   "source": [
    "#Jukebox by OpenAI is an example of a generative AI model that can create music.\n",
    "#DALL-E by OpenAI is an example of a generative AI model that can create images from textual descriptions.\n",
    "#Chatgpt by OpenAI is an example of a generative AI model that can generate human-like text based on prompts."
   ]
  },
  {
   "cell_type": "code",
   "execution_count": null,
   "id": "b56b4d22",
   "metadata": {},
   "outputs": [],
   "source": [
    "#Application of AI/ML/DL:\n",
    "#Chatbots automate customer interactions using natural language processing.\n",
    "#Recommendation systems suggest products based on user behavior.e.g., suggest movies , products , music . (e.g., Netflix, Amazon)\n",
    "#Self Driving cars : User sensors and ML detect surroundings and make driving decisions.\n",
    "#financial fraud detection uses ML to identify unusual patterns in transactions. , cerdit scoring.\n",
    "#medical diagnosis : Detect diseases from medical images using deep learning.like X-rays, MRIs, and CT scans."
   ]
  },
  {
   "cell_type": "code",
   "execution_count": null,
   "id": "b3961e8c",
   "metadata": {},
   "outputs": [],
   "source": [
    "#Deep Learning \n",
    "#3 important concepts:\n",
    "#a. ANN (Artificial Neural Networks)\n",
    "#b. CNN (Convolutional Neural Networks)\n",
    "#c. RNN (Recurrent Neural Networks)\n",
    "#Loss function : It is a method of evaluating how well your model is performing.\n",
    "#Activation function : It is a mathematical operation applied to the output of a neuron in a neural network. e.g., sigmoid, tanh, ReLU , softmax.\n",
    "#for categorical data we use sigmoid activation function. f(x) = 1 / (1 + exp(-x))\n",
    "#for continuous data we use Relu activation function. f(x) = max(0, x)\n",
    "#Accuracy Matrix : Precision, Recall, F1 Score, ROC-AUC.\n",
    "#Tanh activation function : It is defined as f(x) = (exp(x) - exp(-x)) / (exp(x) + exp(-x)).\n",
    "#Softmax activation function : It is defined as f(x) = exp(x) / sum(exp(x)) for all x in the input vector."
   ]
  },
  {
   "cell_type": "code",
   "execution_count": null,
   "id": "9d334192",
   "metadata": {},
   "outputs": [],
   "source": [
    "#TensorFlow : It is an open-source machine learning framework developed by Google.\n",
    "#It provides a comprehensive ecosystem for building and deploying machine learning models, including deep learning.\n",
    "#keras api : It is a high-level neural networks API written in Python and capable of running on top of TensorFlow.\n",
    "#It allows for easy and fast prototyping of deep learning models."
   ]
  }
 ],
 "metadata": {
  "kernelspec": {
   "display_name": "Python 3",
   "language": "python",
   "name": "python3"
  },
  "language_info": {
   "name": "python",
   "version": "3.9.13"
  }
 },
 "nbformat": 4,
 "nbformat_minor": 5
}

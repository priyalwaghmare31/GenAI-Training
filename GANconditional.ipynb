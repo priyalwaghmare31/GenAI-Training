{
 "cells": [
  {
   "cell_type": "markdown",
   "id": "fa69d66b",
   "metadata": {},
   "source": [
    "A condtional GAN is special type of GAN where you give extra information to generator and discriminator.\n",
    "So genrator learns to create output that match  that conditions"
   ]
  }
 ],
 "metadata": {
  "language_info": {
   "name": "python"
  }
 },
 "nbformat": 4,
 "nbformat_minor": 5
}
